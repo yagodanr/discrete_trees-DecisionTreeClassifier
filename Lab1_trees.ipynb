{
 "cells": [
  {
   "cell_type": "code",
   "execution_count": 1,
   "metadata": {},
   "outputs": [],
   "source": [
    "# !pip install networkx\n",
    "# !pip install matplotlib\n",
    "# !pip install tqdm\n",
    "# !pip install pandas\n",
    "# !pip install numpy\n",
    "# !pip install graphviz\n",
    "# !pip install scikit-learn"
   ]
  },
  {
   "cell_type": "code",
   "execution_count": 1,
   "metadata": {},
   "outputs": [],
   "source": [
    "import random\n",
    "import networkx as nx\n",
    "import pandas as pd\n",
    "import numpy as np\n",
    "import matplotlib.pyplot as plt\n",
    "from itertools import combinations, groupby\n",
    "\n",
    "from networkx.algorithms import tree\n",
    "from networkx.algorithms import bellman_ford_predecessor_and_distance\n",
    "from networkx.algorithms import floyd_warshall_predecessor_and_distance\n",
    "\n",
    "import numpy.typing as npt"
   ]
  },
  {
   "cell_type": "code",
   "execution_count": 2,
   "metadata": {},
   "outputs": [],
   "source": [
    "import heapq"
   ]
  },
  {
   "cell_type": "markdown",
   "metadata": {},
   "source": [
    "# Task 1. Algorithm's analysis"
   ]
  },
  {
   "cell_type": "markdown",
   "metadata": {},
   "source": [
    "## Generating graph"
   ]
  },
  {
   "cell_type": "code",
   "execution_count": 3,
   "metadata": {},
   "outputs": [],
   "source": [
    "\n",
    "# You can use this function to generate a random graph with 'num_of_nodes' nodes\n",
    "# and 'completeness' probability of an edge between any two nodes\n",
    "# If 'directed' is True, the graph will be directed\n",
    "# If 'draw' is True, the graph will be drawn\n",
    "def gnp_random_connected_graph(num_of_nodes: int,\n",
    "                               completeness: int,\n",
    "                               directed: bool = False,\n",
    "                               draw: bool = False):\n",
    "    \"\"\"\n",
    "    Generates a random graph, similarly to an Erdős-Rényi\n",
    "    graph, but enforcing that the resulting graph is conneted (in case of undirected graphs)\n",
    "    \"\"\"\n",
    "\n",
    "\n",
    "    if directed:\n",
    "        G = nx.DiGraph()\n",
    "    else:\n",
    "        G = nx.Graph()\n",
    "    edges = combinations(range(num_of_nodes), 2)\n",
    "    G.add_nodes_from(range(num_of_nodes))\n",
    "\n",
    "    for _, node_edges in groupby(edges, key = lambda x: x[0]):\n",
    "        node_edges = list(node_edges)\n",
    "        random_edge = random.choice(node_edges)\n",
    "        if random.random() < 0.5:\n",
    "            random_edge = random_edge[::-1]\n",
    "        G.add_edge(*random_edge)\n",
    "        for e in node_edges:\n",
    "            if random.random() < completeness:\n",
    "                G.add_edge(*e)\n",
    "\n",
    "    for (u,v,w) in G.edges(data=True):\n",
    "        w['weight'] = random.randint(-5, 20)\n",
    "\n",
    "    if draw:\n",
    "        plt.figure(figsize=(10,6))\n",
    "        if directed:\n",
    "            # draw with edge weights\n",
    "            pos = nx.arf_layout(G)\n",
    "            nx.draw(G,pos, node_color='lightblue',\n",
    "                    with_labels=True,\n",
    "                    node_size=500,\n",
    "                    arrowsize=20,\n",
    "                    arrows=True)\n",
    "            labels = nx.get_edge_attributes(G,'weight')\n",
    "            nx.draw_networkx_edge_labels(G, pos,edge_labels=labels)\n",
    "\n",
    "        else:\n",
    "            nx.draw(G, node_color='lightblue',\n",
    "                with_labels=True,\n",
    "                node_size=500)\n",
    "\n",
    "    return G"
   ]
  },
  {
   "cell_type": "code",
   "execution_count": null,
   "metadata": {},
   "outputs": [],
   "source": [
    "G = gnp_random_connected_graph(10, 0.2, False, True)"
   ]
  },
  {
   "cell_type": "markdown",
   "metadata": {},
   "source": [
    "## Subtask 1.1"
   ]
  },
  {
   "cell_type": "markdown",
   "metadata": {},
   "source": [
    "### Kruskal's algorithm"
   ]
  },
  {
   "cell_type": "code",
   "execution_count": 5,
   "metadata": {},
   "outputs": [],
   "source": [
    "mstk = tree.minimum_spanning_tree(G, algorithm=\"kruskal\")"
   ]
  },
  {
   "cell_type": "code",
   "execution_count": null,
   "metadata": {},
   "outputs": [],
   "source": [
    "nx.draw(mstk, node_color='lightblue',\n",
    "        with_labels=True,\n",
    "        node_size=500)"
   ]
  },
  {
   "cell_type": "code",
   "execution_count": null,
   "metadata": {},
   "outputs": [],
   "source": [
    "nx.draw(G, node_color='lightblue',\n",
    "                with_labels=True,\n",
    "                node_size=500)"
   ]
  },
  {
   "cell_type": "code",
   "execution_count": null,
   "metadata": {},
   "outputs": [],
   "source": [
    "mstk.edges().data(\"weight\"), sum(w for _, _, w in mstk.edges().data(\"weight\")), len(mstk.edges())"
   ]
  },
  {
   "cell_type": "markdown",
   "metadata": {},
   "source": [
    "### Python Implementation"
   ]
  },
  {
   "cell_type": "code",
   "execution_count": null,
   "metadata": {},
   "outputs": [],
   "source": [
    "\n",
    "def Kruskal_algorithm(G: nx.Graph) -> nx.Graph:\n",
    "    tr: nx.Graph = nx.create_empty_copy(G)\n",
    "    n = len(G.nodes())\n",
    "    # print(n)\n",
    "    edges = G.edges().data(\"weight\")\n",
    "    edges = sorted(edges, key=lambda x: x[2])\n",
    "\n",
    "    for u, v, w in edges:\n",
    "        if not nx.has_path(tr, u, v):\n",
    "            tr.add_edge(u, v, weight=w)\n",
    "\n",
    "    return tr\n",
    "\n",
    "tr = Kruskal_algorithm(G)\n",
    "nx.draw(tr, node_color='lightblue',\n",
    "        with_labels=True,\n",
    "        node_size=500)\n"
   ]
  },
  {
   "cell_type": "code",
   "execution_count": null,
   "metadata": {},
   "outputs": [],
   "source": [
    "tr.edges().data(\"weight\"), sum(w for _, _, w in tr.edges().data(\"weight\")), len(tr.edges())"
   ]
  },
  {
   "cell_type": "markdown",
   "metadata": {},
   "source": [
    "### Prim's algorithm"
   ]
  },
  {
   "cell_type": "code",
   "execution_count": 11,
   "metadata": {},
   "outputs": [],
   "source": [
    "mstp = tree.minimum_spanning_tree(G, algorithm=\"prim\")"
   ]
  },
  {
   "cell_type": "code",
   "execution_count": null,
   "metadata": {},
   "outputs": [],
   "source": [
    "nx.draw(mstp, node_color='lightblue',\n",
    "        with_labels=True,\n",
    "        node_size=500)"
   ]
  },
  {
   "cell_type": "code",
   "execution_count": null,
   "metadata": {},
   "outputs": [],
   "source": [
    "mstp.edges().data(\"weight\"), sum(w for _, _, w in mstp.edges().data(\"weight\")), len(mstp.edges())"
   ]
  },
  {
   "cell_type": "markdown",
   "metadata": {},
   "source": [
    "### Python implementation"
   ]
  },
  {
   "cell_type": "code",
   "execution_count": null,
   "metadata": {},
   "outputs": [],
   "source": [
    "def Prim_algorithm(G: nx.Graph) -> nx.Graph:\n",
    "    tr = nx.create_empty_copy(G)\n",
    "\n",
    "    adj_list = dict.fromkeys(G.nodes(), None)\n",
    "    for (u, v, wt) in G.edges.data('weight'):\n",
    "        if not adj_list[u]:\n",
    "            adj_list[u] = {}\n",
    "        if not adj_list[v]:\n",
    "            adj_list[v] = {}\n",
    "        adj_list[u][v] = wt\n",
    "        adj_list[v][u] = wt\n",
    "    #     print(u, v, wt)\n",
    "    # print(adj_list)\n",
    "\n",
    "    v = list(G.nodes())[0]\n",
    "    pr_q = []\n",
    "    for to, w in adj_list[v].items():\n",
    "        heapq.heappush(pr_q, (w, to, v))\n",
    "    connected = set()\n",
    "    connected.add(v)\n",
    "    while pr_q != []:\n",
    "        weight, v, prev = heapq.heappop(pr_q)\n",
    "        if v in connected:\n",
    "            continue\n",
    "        connected.add(v)\n",
    "        tr.add_edge(prev, v, weight=weight)\n",
    "\n",
    "        for to, w in adj_list[v].items():\n",
    "            heapq.heappush(pr_q, (w, to, v))\n",
    "    return tr\n",
    "\n",
    "tr = Prim_algorithm(G)\n",
    "nx.draw(tr, node_color='lightblue',\n",
    "        with_labels=True,\n",
    "        node_size=500)"
   ]
  },
  {
   "cell_type": "code",
   "execution_count": null,
   "metadata": {},
   "outputs": [],
   "source": [
    "tr.edges().data(\"weight\"), sum(w for _, _, w in tr.edges().data(\"weight\")), len(tr.edges())"
   ]
  },
  {
   "cell_type": "markdown",
   "metadata": {},
   "source": [
    "## Subtask 1.2"
   ]
  },
  {
   "cell_type": "code",
   "execution_count": null,
   "metadata": {},
   "outputs": [],
   "source": [
    "G = gnp_random_connected_graph(10, 0.5, True, True)"
   ]
  },
  {
   "cell_type": "markdown",
   "metadata": {},
   "source": [
    "### Bellman-Ford algorithm"
   ]
  },
  {
   "cell_type": "code",
   "execution_count": null,
   "metadata": {},
   "outputs": [],
   "source": [
    "# pred is a dictionary of predecessors, dist is a dictionary of distances\n",
    "try:\n",
    "    pred, dist = bellman_ford_predecessor_and_distance(G, 0)\n",
    "    for k, v in dist.items():\n",
    "        print(f\"Distance to {k}:\", v)\n",
    "except:\n",
    "    print(\"Negative cycle detected\")"
   ]
  },
  {
   "cell_type": "markdown",
   "metadata": {},
   "source": [
    "### Python Implementation"
   ]
  },
  {
   "cell_type": "code",
   "execution_count": 18,
   "metadata": {},
   "outputs": [],
   "source": [
    "def bellman_ford_algorithm(G, start_node: int):\n",
    "    dist = dict.fromkeys(G.nodes(), float('inf'))\n",
    "    dist[start_node] = 0\n",
    "\n",
    "    for _ in range(len(G.nodes()) - 1):\n",
    "        for u, v, weight in G.edges(data=True):\n",
    "            if dist[u] != float('inf') and dist[u] + weight['weight'] < dist[v]:\n",
    "                dist[v] = dist[u] + weight['weight']\n",
    "\n",
    "    # check for negative weight cycles\n",
    "    for u, v, weight in G.edges(data=True):\n",
    "        if dist[u] != float('inf') and dist[u] + weight['weight'] < dist[v]:\n",
    "            return \"Negative cycle detected\"\n",
    "\n",
    "    return dist"
   ]
  },
  {
   "cell_type": "code",
   "execution_count": null,
   "metadata": {},
   "outputs": [],
   "source": [
    "bellman_ford_algorithm(G, 0)"
   ]
  },
  {
   "cell_type": "markdown",
   "metadata": {},
   "source": [
    "### Floyd-Warshall algorithm"
   ]
  },
  {
   "cell_type": "code",
   "execution_count": null,
   "metadata": {},
   "outputs": [],
   "source": [
    "# pred is a dictionary of predecessors, dist is a dictionary of distances dictionaries\n",
    "try:\n",
    "    pred, dist = floyd_warshall_predecessor_and_distance(G)\n",
    "    for k, v in dist.items():\n",
    "        print(f\"Distances with {k} source:\", dict(v))\n",
    "except:\n",
    "    print(\"Negative cycle detected\")"
   ]
  },
  {
   "cell_type": "markdown",
   "metadata": {},
   "source": [
    "### Python Implementation"
   ]
  },
  {
   "cell_type": "code",
   "execution_count": 21,
   "metadata": {},
   "outputs": [],
   "source": [
    "def floyd_warshall_algorithm(G):\n",
    "    n = len(G.nodes())\n",
    "    dist = [[float('inf') for _ in range(n)] for _ in range(n)]\n",
    "\n",
    "    # set distance from node to itself to zero\n",
    "    for i in range(n):\n",
    "        dist[i][i] = 0\n",
    "\n",
    "    # set initial distances\n",
    "    for u, v, weight in G.edges(data=True):\n",
    "        dist[u][v] = weight['weight']\n",
    "\n",
    "    for k in range(n):\n",
    "        for i in range(n):\n",
    "            for j in range(n):\n",
    "                dist[i][j] = min(dist[i][j], (dist[i][k] + dist[k][j]))\n",
    "\n",
    "    # check for negative weight cycles\n",
    "    for i in range(n):\n",
    "        if dist[i][i] < 0:\n",
    "            return \"Negative cycle detected\"\n",
    "\n",
    "    return dist"
   ]
  },
  {
   "cell_type": "code",
   "execution_count": null,
   "metadata": {},
   "outputs": [],
   "source": [
    "fl_w = floyd_warshall_algorithm(G)\n",
    "fl_w"
   ]
  },
  {
   "cell_type": "code",
   "execution_count": null,
   "metadata": {},
   "outputs": [],
   "source": [
    "for i in range(len(fl_w)):\n",
    "    print(f\"Distances with {i} source: { {k: dist for k, dist in zip(range(len(fl_w)), fl_w[i])} }\")"
   ]
  },
  {
   "cell_type": "markdown",
   "metadata": {},
   "source": [
    "---"
   ]
  },
  {
   "cell_type": "markdown",
   "metadata": {},
   "source": [
    "## Some useful explanations\n",
    "### How to get list of edges for your algorithm"
   ]
  },
  {
   "cell_type": "code",
   "execution_count": 24,
   "metadata": {},
   "outputs": [],
   "source": [
    "edges = list(G.edges()) # by default G.edges are EdgesView class"
   ]
  },
  {
   "cell_type": "code",
   "execution_count": null,
   "metadata": {},
   "outputs": [],
   "source": [
    "edges[:5]"
   ]
  },
  {
   "cell_type": "markdown",
   "metadata": {},
   "source": [
    "### To get edges with weights"
   ]
  },
  {
   "cell_type": "code",
   "execution_count": 26,
   "metadata": {},
   "outputs": [],
   "source": [
    "edges = list(G.edges(data=True))"
   ]
  },
  {
   "cell_type": "code",
   "execution_count": null,
   "metadata": {},
   "outputs": [],
   "source": [
    "edges[2]"
   ]
  },
  {
   "cell_type": "code",
   "execution_count": null,
   "metadata": {},
   "outputs": [],
   "source": [
    "nodes = list(G.nodes())\n",
    "print(nodes)"
   ]
  },
  {
   "cell_type": "markdown",
   "metadata": {},
   "source": [
    "# Time measuring\n",
    "\n",
    "Read more on this: https://realpython.com/python-timer/\n",
    "\n",
    "Recall that you should measure times for 5, 10, 20, 50, 100, 200, 500 nodes 1000 times (and take mean of time taken for each node amount).\n",
    "\n",
    "Then you should build the plot for two algorithms (x - data size, y - mean time of execution)."
   ]
  },
  {
   "cell_type": "code",
   "execution_count": 29,
   "metadata": {},
   "outputs": [],
   "source": [
    "import time\n",
    "from tqdm import tqdm"
   ]
  },
  {
   "cell_type": "code",
   "execution_count": 30,
   "metadata": {},
   "outputs": [],
   "source": [
    "NUM_OF_ITERATIONS = 1000\n",
    "num_nodes = [5, 10, 20, 50, 100, 200, 500]\n",
    "completenesses = [0, 0.2, 0.4, 0.5, 0.75, 1]"
   ]
  },
  {
   "cell_type": "markdown",
   "metadata": {},
   "source": [
    "## Minimum spanning tree"
   ]
  },
  {
   "cell_type": "code",
   "execution_count": null,
   "metadata": {},
   "outputs": [],
   "source": [
    "measures_MST = {\n",
    "    \"nx_prim\": {\n",
    "        \"time\": {},\n",
    "        \"alg\": lambda g: tree.minimum_spanning_tree(g, algorithm=\"prim\")\n",
    "    },\n",
    "    \"my_prim\": {\n",
    "        \"time\": {},\n",
    "        \"alg\": lambda g: Prim_algorithm(g)\n",
    "    },\n",
    "    \"nx_krustal\": {\n",
    "        \"time\": {},\n",
    "        \"alg\": lambda g: tree.minimum_spanning_tree(g, algorithm=\"kruskal\")\n",
    "    },\n",
    "    \"my_krustal\": {\n",
    "        \"time\": {},\n",
    "        \"alg\": lambda g: Kruskal_algorithm(g)\n",
    "    },\n",
    "}\n",
    "\n",
    "for n in num_nodes:\n",
    "    for k in measures_MST:\n",
    "        measures_MST[k][\"time\"][n] = 0\n",
    "\n",
    "    for i in tqdm(range(NUM_OF_ITERATIONS)):\n",
    "\n",
    "        # note that we should not measure time of graph creation\n",
    "        G = gnp_random_connected_graph(n, completenesses[i%len(completenesses)], False)\n",
    "\n",
    "        for k in measures_MST:\n",
    "            start = time.time()\n",
    "            gr = measures_MST[k][\"alg\"](G)\n",
    "            end = time.time()\n",
    "\n",
    "            measures_MST[k][\"time\"][n] += end - start\n",
    "\n",
    "    for k in measures_MST:\n",
    "        measures_MST[k][\"time\"][n] = measures_MST[k][\"time\"][n] / NUM_OF_ITERATIONS\n",
    "measures_MST"
   ]
  },
  {
   "cell_type": "markdown",
   "metadata": {},
   "source": [
    "## Shortest path"
   ]
  },
  {
   "cell_type": "code",
   "execution_count": null,
   "metadata": {},
   "outputs": [],
   "source": []
  },
  {
   "cell_type": "markdown",
   "metadata": {},
   "source": [
    "# Plotting time measures"
   ]
  },
  {
   "cell_type": "markdown",
   "metadata": {},
   "source": [
    "## Minimum spanning tree"
   ]
  },
  {
   "cell_type": "markdown",
   "metadata": {},
   "source": [
    "Use this if you don't want to measure"
   ]
  },
  {
   "cell_type": "code",
   "execution_count": 30,
   "metadata": {},
   "outputs": [],
   "source": [
    "# # Data: number of nodes and measured times for each algorithm.\n",
    "# num_nodes = [5, 10, 20, 50, 100, 200, 500]\n",
    "\n",
    "# measures_MST = {\n",
    "#     'nx_prim': {\n",
    "#         'time': {\n",
    "#             5: 3.6245107650756835e-05,\n",
    "#             10: 0.00013869738578796387,\n",
    "#             20: 0.0001194601058959961,\n",
    "#             50: 0.000502967119216919,\n",
    "#             100: 0.00245829701423645,\n",
    "#             200: 0.015145911455154419,\n",
    "#             500: 0.11887391948699952\n",
    "#         },\n",
    "#         'alg': lambda g: None  # placeholder function\n",
    "#     },\n",
    "#     'my_prim': {\n",
    "#         'time': {\n",
    "#             5: 2.8157472610473633e-05,\n",
    "#             10: 6.421422958374024e-05,\n",
    "#             20: 0.00015464949607849122,\n",
    "#             50: 0.0008819258213043213,\n",
    "#             100: 0.005444227933883667,\n",
    "#             200: 0.030584785461425783,\n",
    "#             500: 0.2457535240650177\n",
    "#         },\n",
    "#         'alg': lambda g: None\n",
    "#     },\n",
    "#     'nx_krustal': {\n",
    "#         'time': {\n",
    "#             5: 3.651738166809082e-05,\n",
    "#             10: 7.623982429504395e-05,\n",
    "#             20: 0.00015038323402404786,\n",
    "#             50: 0.0006659302711486816,\n",
    "#             100: 0.003551886320114136,\n",
    "#             200: 0.018301385402679442,\n",
    "#             500: 0.15191850209236146\n",
    "#         },\n",
    "#         'alg': lambda g: None\n",
    "#     },\n",
    "#     'my_krustal': {\n",
    "#         'time': {\n",
    "#             5: 5.860638618469238e-05,\n",
    "#             10: 9.623982429504395e-05,\n",
    "#             20: 0.00095038323402404786,\n",
    "#             50: 0.005616315841674805,\n",
    "#             100: 0.048421209573745724,\n",
    "#             200: 0.3302415544986725,\n",
    "#             500: 3.673677587032318\n",
    "#         },\n",
    "#         'alg': lambda g: None\n",
    "#     }\n",
    "# }"
   ]
  },
  {
   "cell_type": "markdown",
   "metadata": {},
   "source": [
    "### Absolute time measures limited to 1 second\n",
    "\n",
    "my_kruskal takes an average of 3.673677587032318 seconds for 500 nodes"
   ]
  },
  {
   "cell_type": "code",
   "execution_count": null,
   "metadata": {},
   "outputs": [],
   "source": [
    "# Extract algorithm names.\n",
    "algorithms = list(measures_MST.keys())\n",
    "\n",
    "# Prepare the times for each algorithm in the order of num_nodes.\n",
    "times = {\n",
    "    alg: [measures_MST[alg]['time'][n] for n in num_nodes]\n",
    "    for alg in algorithms\n",
    "}\n",
    "\n",
    "# Set up the bar plot parameters.\n",
    "x = np.arange(len(num_nodes))  # positions for groups (each group corresponds to a graph size)\n",
    "bar_width = 0.2  # width of each individual bar\n",
    "offset = -bar_width * (len(algorithms) - 1) / 2  # centering the grouped bars\n",
    "\n",
    "fig, ax = plt.subplots(figsize=(10, 6))\n",
    "\n",
    "# Create a bar for each algorithm.\n",
    "for i, alg in enumerate(algorithms):\n",
    "    ax.bar(x + offset + i * bar_width, times[alg],\n",
    "           width=bar_width, label=alg)\n",
    "\n",
    "# Set the labels and title.\n",
    "ax.set_xlabel(\"Number of Nodes\")\n",
    "ax.set_ylabel(\"Time (seconds)\")\n",
    "ax.set_title(\"Execution Time of Different MST Algorithms\")\n",
    "ax.set_xticks(x)\n",
    "ax.set_xticklabels(num_nodes)\n",
    "ax.legend()\n",
    "ax.set_ylim(0, 1)\n",
    "\n",
    "# Display the plot.\n",
    "plt.tight_layout()\n",
    "plt.show()\n"
   ]
  },
  {
   "cell_type": "markdown",
   "metadata": {},
   "source": [
    "### Grouped by number of nodes"
   ]
  },
  {
   "cell_type": "code",
   "execution_count": null,
   "metadata": {},
   "outputs": [],
   "source": [
    "# List of algorithm names.\n",
    "algorithms = list(measures_MST.keys())\n",
    "\n",
    "# Decide on a grid layout for subplots.\n",
    "n_plots = len(num_nodes)\n",
    "n_cols = 4                     # Number of subplot columns (you can adjust this)\n",
    "n_rows = (n_plots + n_cols - 1) // n_cols  # Compute the number of rows needed\n",
    "\n",
    "fig, axes = plt.subplots(n_rows, n_cols, figsize=(n_cols * 4, n_rows * 3))\n",
    "axes = axes.flatten()  # Flatten in case we have a 2D array of axes\n",
    "\n",
    "# Create a bar plot for each graph size.\n",
    "for i, nodes in enumerate(num_nodes):\n",
    "    # Extract times for the current number of nodes for each algorithm.\n",
    "    times = [measures_MST[alg]['time'][nodes] for alg in algorithms]\n",
    "\n",
    "    # Plot bars for each algorithm.\n",
    "    axes[i].bar(algorithms, times, color='skyblue')\n",
    "\n",
    "    # Set title and labels.\n",
    "    axes[i].set_title(f\"Graph Size: {nodes} Nodes\")\n",
    "    axes[i].set_ylabel(\"Time (seconds)\")\n",
    "\n",
    "    # Optionally, adjust y-axis limits so the bars are clearly visible.\n",
    "    max_time = max(times)\n",
    "    axes[i].set_ylim(0, max_time * 1.2)  # a little extra space above the tallest bar\n",
    "\n",
    "    # Rotate x-labels if necessary for better readability.\n",
    "    axes[i].tick_params(axis='x', rotation=45)\n",
    "\n",
    "# If there are any unused subplots, remove them.\n",
    "for j in range(i + 1, len(axes)):\n",
    "    fig.delaxes(axes[j])\n",
    "\n",
    "plt.tight_layout()\n",
    "plt.show()\n"
   ]
  },
  {
   "cell_type": "markdown",
   "metadata": {},
   "source": [
    "### Grouped by number of nodes without my_kruskal"
   ]
  },
  {
   "cell_type": "code",
   "execution_count": null,
   "metadata": {},
   "outputs": [],
   "source": [
    "# List of algorithm names.\n",
    "algorithms = list(measures_MST.keys())[:-1]\n",
    "\n",
    "# Decide on a grid layout for subplots.\n",
    "n_plots = len(num_nodes)\n",
    "n_cols = 3                     # Number of subplot columns (you can adjust this)\n",
    "n_rows = (n_plots + n_cols - 1) // n_cols  # Compute the number of rows needed\n",
    "\n",
    "fig, axes = plt.subplots(n_rows, n_cols, figsize=(n_cols * 4, n_rows * 3))\n",
    "axes = axes.flatten()  # Flatten in case we have a 2D array of axes\n",
    "\n",
    "# Create a bar plot for each graph size.\n",
    "for i, nodes in enumerate(num_nodes):\n",
    "    # Extract times for the current number of nodes for each algorithm.\n",
    "    times = [measures_MST[alg]['time'][nodes] for alg in algorithms]\n",
    "\n",
    "    # Plot bars for each algorithm.\n",
    "    axes[i].bar(algorithms, times, color='skyblue')\n",
    "\n",
    "    # Set title and labels.\n",
    "    axes[i].set_title(f\"Graph Size: {nodes} Nodes\")\n",
    "    axes[i].set_ylabel(\"Time (seconds)\")\n",
    "\n",
    "    # Optionally, adjust y-axis limits so the bars are clearly visible.\n",
    "    max_time = max(times)\n",
    "    axes[i].set_ylim(0, max_time * 1.2)  # a little extra space above the tallest bar\n",
    "\n",
    "    # Rotate x-labels if necessary for better readability.\n",
    "    axes[i].tick_params(axis='x', rotation=45)\n",
    "\n",
    "# If there are any unused subplots, remove them.\n",
    "for j in range(i + 1, len(axes)):\n",
    "    fig.delaxes(axes[j])\n",
    "\n",
    "plt.tight_layout()\n",
    "plt.show()\n"
   ]
  },
  {
   "cell_type": "markdown",
   "metadata": {},
   "source": [
    "## Shortest Path"
   ]
  },
  {
   "cell_type": "markdown",
   "metadata": {},
   "source": [
    "Lazy measures"
   ]
  },
  {
   "cell_type": "code",
   "execution_count": null,
   "metadata": {},
   "outputs": [],
   "source": []
  },
  {
   "cell_type": "markdown",
   "metadata": {},
   "source": [
    "## Task 2. Decision Tree Classifier "
   ]
  },
  {
   "cell_type": "code",
   "execution_count": 4,
   "metadata": {},
   "outputs": [],
   "source": [
    "# scikit-learn package\n",
    "from sklearn.datasets import load_iris\n",
    "from sklearn.model_selection import cross_val_score\n",
    "from sklearn.tree import DecisionTreeClassifier\n",
    "from sklearn import tree\n",
    "from sklearn.model_selection import train_test_split"
   ]
  },
  {
   "cell_type": "markdown",
   "metadata": {},
   "source": [
    "![purple-divider](https://user-images.githubusercontent.com/7065401/52071927-c1cd7100-2562-11e9-908a-dde91ba14e59.png)"
   ]
  },
  {
   "cell_type": "markdown",
   "metadata": {},
   "source": [
    "### General idea\n",
    "\n",
    "#### You are expected to write a quite simple, yet good core logic of decision tree classifier class. Additionaly, you need to test your results and write down a report on what you've done, which principles used and explain the general process.\n",
    "\n",
    "#### Hopefully, you have already learned what is decision tree classifier and how it work. For better understanding, and in case if something is still unclear for you, here are some useful links on basics of DTC:\n",
    "- https://www.youtube.com/watch?v=ZVR2Way4nwQ\n",
    "- https://towardsdatascience.com/decision-tree-classifier-explained-a-visual-guide-with-code-examples-for-beginners-7c863f06a71e\n",
    "- https://towardsdatascience.com/decision-tree-from-scratch-in-python-46e99dfea775\n",
    "- https://www.kaggle.com/code/prashant111/decision-tree-classifier-tutorial\n",
    "- https://towardsdatascience.com/decision-tree-classifier-explained-in-real-life-picking-a-vacation-destination-6226b2b6057\n",
    "\n",
    "#### Also, for those interested to learn more about machine learning and particulary Desicion Trees - here is a great course on Coursera (you may be interested in the whole course or just this particular week):\n",
    "- https://www.coursera.org/learn/advanced-learning-algorithms/home/week/4\n"
   ]
  },
  {
   "cell_type": "markdown",
   "metadata": {},
   "source": [
    "![purple-divider](https://user-images.githubusercontent.com/7065401/52071927-c1cd7100-2562-11e9-908a-dde91ba14e59.png)"
   ]
  },
  {
   "cell_type": "markdown",
   "metadata": {},
   "source": [
    "\n",
    "### Dataset\n",
    "#### You can use Iris dataset for this task. It is a very popular dataset for machine learning and data science. It contains 150 samples of 3 different species of Iris flowers (Iris setosa, Iris virginica and Iris versicolor). Four features were measured from each sample: the length and the width of the sepals and petals, in centimeters. \n",
    "Read more on this: https://scikit-learn.org/stable/auto_examples/datasets/plot_iris_dataset.html\n",
    "https://en.wikipedia.org/wiki/Iris_flower_data_set\n",
    "#### However, using more interesting and intricate datasets is much appreciated. You can use any dataset you want, but it should be a classification one. For example you can use breast cancer or wine datasets, which are also available in sklearn.datasets. Or you can use any other dataset you find interesting.\n",
    "P.S. In case you are not sure if your dataset is suitable, feel free to ask assistants :)."
   ]
  },
  {
   "cell_type": "markdown",
   "metadata": {},
   "source": [
    "![purple-divider](https://user-images.githubusercontent.com/7065401/52071927-c1cd7100-2562-11e9-908a-dde91ba14e59.png)"
   ]
  },
  {
   "cell_type": "code",
   "execution_count": 5,
   "metadata": {},
   "outputs": [
    {
     "data": {
      "text/plain": [
       "['DESCR',\n",
       " 'data',\n",
       " 'data_module',\n",
       " 'feature_names',\n",
       " 'filename',\n",
       " 'frame',\n",
       " 'target',\n",
       " 'target_names']"
      ]
     },
     "execution_count": 5,
     "metadata": {},
     "output_type": "execute_result"
    }
   ],
   "source": [
    "# Load dataset\n",
    "iris = load_iris()\n",
    "dir(iris)"
   ]
  },
  {
   "cell_type": "code",
   "execution_count": 6,
   "metadata": {},
   "outputs": [
    {
     "data": {
      "text/plain": [
       "(150, 4)"
      ]
     },
     "execution_count": 6,
     "metadata": {},
     "output_type": "execute_result"
    }
   ],
   "source": [
    "iris.data.shape"
   ]
  },
  {
   "cell_type": "markdown",
   "metadata": {},
   "source": [
    "This means that we have 150 entries (samples, infos about a flower). The columns being: Sepal Length, Sepal Width, Petal Length and Petal Width(features). Let's look at first two entries:"
   ]
  },
  {
   "cell_type": "code",
   "execution_count": 7,
   "metadata": {},
   "outputs": [
    {
     "data": {
      "text/plain": [
       "array([[5.1, 3.5, 1.4, 0.2],\n",
       "       [4.9, 3. , 1.4, 0.2]])"
      ]
     },
     "execution_count": 7,
     "metadata": {},
     "output_type": "execute_result"
    }
   ],
   "source": [
    "iris.data[0:2]"
   ]
  },
  {
   "cell_type": "markdown",
   "metadata": {},
   "source": [
    "### To undestand data little bit better, let's plot some features"
   ]
  },
  {
   "cell_type": "code",
   "execution_count": 8,
   "metadata": {},
   "outputs": [
    {
     "data": {
      "text/plain": [
       "Text(0, 0.5, 'Sepal width')"
      ]
     },
     "execution_count": 8,
     "metadata": {},
     "output_type": "execute_result"
    },
    {
     "data": {
      "image/png": "[encoded data removed]",
      "text/plain": [
       "<Figure size 800x600 with 1 Axes>"
      ]
     },
     "metadata": {},
     "output_type": "display_data"
    }
   ],
   "source": [
    "X = iris.data[:, :2]  # we only take the first two features.\n",
    "y = iris.target\n",
    "\n",
    "plt.figure(2, figsize=(8, 6))\n",
    "plt.clf()\n",
    "\n",
    "# Plot the training points\n",
    "plt.scatter(X[:, 0], X[:, 1], c=y, cmap=plt.cm.Set1, edgecolor=\"k\")\n",
    "plt.xlabel(\"Sepal length\")\n",
    "plt.ylabel(\"Sepal width\")"
   ]
  },
  {
   "cell_type": "markdown",
   "metadata": {},
   "source": [
    "From this we can clearly see, that even basing on those two parameters, we can clearly divide (classify) out data into several groups. For this, we will use decision tree classifier: https://scikit-learn.org/stable/modules/tree.html#tree\n",
    "\n",
    "![purple-divider](https://user-images.githubusercontent.com/7065401/52071927-c1cd7100-2562-11e9-908a-dde91ba14e59.png)\n",
    "\n",
    "### Example of usage\n",
    "\n",
    "\n",
    "**Decision Trees (DTs) are a non-parametric supervised learning method used for classification and regression**. The goal is to create a model that predicts the value of a target variable by learning simple decision rules inferred from the data features. A tree can be seen as a piecewise constant approximation."
   ]
  },
  {
   "cell_type": "code",
   "execution_count": 9,
   "metadata": {},
   "outputs": [
    {
     "data": {
      "text/plain": [
       "((150, 4), (150,))"
      ]
     },
     "execution_count": 9,
     "metadata": {},
     "output_type": "execute_result"
    }
   ],
   "source": [
    "clf = DecisionTreeClassifier()\n",
    "\n",
    "X, y = iris.data, iris.target\n",
    "X.shape, y.shape"
   ]
  },
  {
   "cell_type": "markdown",
   "metadata": {},
   "source": [
    "### Train / test split\n",
    "\n",
    "We train our model using training dataset and evaluate its performance basing on the test dataset. Reason to use two separate datasets is that our model learns its parameters from data, thus test set allows us to check its possibilities on completely new data."
   ]
  },
  {
   "cell_type": "code",
   "execution_count": 10,
   "metadata": {},
   "outputs": [
    {
     "data": {
      "text/plain": [
       "((30, 4), (30,))"
      ]
     },
     "execution_count": 10,
     "metadata": {},
     "output_type": "execute_result"
    }
   ],
   "source": [
    "X, X_test, y, y_test = train_test_split(X, y, test_size= 0.20)\n",
    "X_test.shape, y_test.shape"
   ]
  },
  {
   "cell_type": "markdown",
   "metadata": {},
   "source": [
    "### Model learning\n",
    "\n",
    "It learns its parameters (where it should split data and for what threshold value) basing on the training dataset. It is done by minimizing some cost function (e.g. Gini impurity or entropy)."
   ]
  },
  {
   "cell_type": "code",
   "execution_count": 11,
   "metadata": {},
   "outputs": [],
   "source": [
    "clf = clf.fit(X, y)"
   ]
  },
  {
   "cell_type": "markdown",
   "metadata": {},
   "source": [
    "### Visualization of produced tree\n",
    "\n",
    "You do not need to understand this piece of code :)"
   ]
  },
  {
   "cell_type": "code",
   "execution_count": 12,
   "metadata": {},
   "outputs": [
    {
     "data": {
      "text/plain": [
       "'iris.pdf'"
      ]
     },
     "execution_count": 12,
     "metadata": {},
     "output_type": "execute_result"
    }
   ],
   "source": [
    "import graphviz\n",
    "dot_data = tree.export_graphviz(clf, out_file=None)\n",
    "graph = graphviz.Source(dot_data)\n",
    "graph.render(\"iris\")"
   ]
  },
  {
   "cell_type": "code",
   "execution_count": 18,
   "metadata": {},
   "outputs": [
    {
     "data": {
      "image/svg+xml": [
       "<?xml version=\"1.0\" encoding=\"UTF-8\" standalone=\"no\"?>\n",
       "<!DOCTYPE svg PUBLIC \"-//W3C//DTD SVG 1.1//EN\"\n",
       " \"http://www.w3.org/Graphics/SVG/1.1/DTD/svg11.dtd\">\n",
       "<!-- Generated by graphviz version 12.1.2 (0)\n",
       " -->\n",
       "<!-- Title: Tree Pages: 1 -->\n",
       "<svg width=\"751pt\" height=\"693pt\"\n",
       " viewBox=\"0.00 0.00 751.38 692.75\" xmlns=\"http://www.w3.org/2000/svg\" xmlns:xlink=\"http://www.w3.org/1999/xlink\">\n",
       "<g id=\"graph0\" class=\"graph\" transform=\"scale(1 1) rotate(0) translate(4 688.75)\">\n",
       "<title>Tree</title>\n",
       "<polygon fill=\"white\" stroke=\"none\" points=\"-4,4 -4,-688.75 747.38,-688.75 747.38,4 -4,4\"/>\n",
       "<!-- 0 -->\n",
       "<g id=\"node1\" class=\"node\">\n",
       "<title>0</title>\n",
       "<path fill=\"#fefaf8\" stroke=\"black\" d=\"M264.75,-684.75C264.75,-684.75 135.5,-684.75 135.5,-684.75 129.5,-684.75 123.5,-678.75 123.5,-672.75 123.5,-672.75 123.5,-610 123.5,-610 123.5,-604 129.5,-598 135.5,-598 135.5,-598 264.75,-598 264.75,-598 270.75,-598 276.75,-604 276.75,-610 276.75,-610 276.75,-672.75 276.75,-672.75 276.75,-678.75 270.75,-684.75 264.75,-684.75\"/>\n",
       "<text text-anchor=\"start\" x=\"131.5\" y=\"-667.45\" font-family=\"Helvetica,sans-Serif\" font-size=\"14.00\">petal width (cm) ≤ 0.75</text>\n",
       "<text text-anchor=\"start\" x=\"164.88\" y=\"-651.7\" font-family=\"Helvetica,sans-Serif\" font-size=\"14.00\">gini = 0.666</text>\n",
       "<text text-anchor=\"start\" x=\"155.88\" y=\"-635.95\" font-family=\"Helvetica,sans-Serif\" font-size=\"14.00\">samples = 120</text>\n",
       "<text text-anchor=\"start\" x=\"142.38\" y=\"-620.2\" font-family=\"Helvetica,sans-Serif\" font-size=\"14.00\">value = [42, 39, 39]</text>\n",
       "<text text-anchor=\"start\" x=\"157\" y=\"-604.45\" font-family=\"Helvetica,sans-Serif\" font-size=\"14.00\">class = setosa</text>\n",
       "</g>\n",
       "<!-- 1 -->\n",
       "<g id=\"node2\" class=\"node\">\n",
       "<title>1</title>\n",
       "<path fill=\"#e58139\" stroke=\"black\" d=\"M172.38,-554.12C172.38,-554.12 79.88,-554.12 79.88,-554.12 73.88,-554.12 67.88,-548.12 67.88,-542.12 67.88,-542.12 67.88,-495.12 67.88,-495.12 67.88,-489.12 73.88,-483.12 79.88,-483.12 79.88,-483.12 172.38,-483.12 172.38,-483.12 178.38,-483.12 184.38,-489.12 184.38,-495.12 184.38,-495.12 184.38,-542.12 184.38,-542.12 184.38,-548.12 178.38,-554.12 172.38,-554.12\"/>\n",
       "<text text-anchor=\"start\" x=\"98.38\" y=\"-536.83\" font-family=\"Helvetica,sans-Serif\" font-size=\"14.00\">gini = 0.0</text>\n",
       "<text text-anchor=\"start\" x=\"85.62\" y=\"-521.08\" font-family=\"Helvetica,sans-Serif\" font-size=\"14.00\">samples = 42</text>\n",
       "<text text-anchor=\"start\" x=\"75.88\" y=\"-505.32\" font-family=\"Helvetica,sans-Serif\" font-size=\"14.00\">value = [42, 0, 0]</text>\n",
       "<text text-anchor=\"start\" x=\"83\" y=\"-489.57\" font-family=\"Helvetica,sans-Serif\" font-size=\"14.00\">class = setosa</text>\n",
       "</g>\n",
       "<!-- 0&#45;&gt;1 -->\n",
       "<g id=\"edge1\" class=\"edge\">\n",
       "<title>0&#45;&gt;1</title>\n",
       "<path fill=\"none\" stroke=\"black\" d=\"M174.04,-597.8C167.28,-586.77 159.98,-574.88 153.18,-563.77\"/>\n",
       "<polygon fill=\"black\" stroke=\"black\" points=\"156.35,-562.24 148.14,-555.54 150.38,-565.9 156.35,-562.24\"/>\n",
       "<text text-anchor=\"middle\" x=\"141.51\" y=\"-573.14\" font-family=\"Helvetica,sans-Serif\" font-size=\"14.00\">True</text>\n",
       "</g>\n",
       "<!-- 2 -->\n",
       "<g id=\"node3\" class=\"node\">\n",
       "<title>2</title>\n",
       "<path fill=\"#ffffff\" stroke=\"black\" d=\"M336,-562C336,-562 214.25,-562 214.25,-562 208.25,-562 202.25,-556 202.25,-550 202.25,-550 202.25,-487.25 202.25,-487.25 202.25,-481.25 208.25,-475.25 214.25,-475.25 214.25,-475.25 336,-475.25 336,-475.25 342,-475.25 348,-481.25 348,-487.25 348,-487.25 348,-550 348,-550 348,-556 342,-562 336,-562\"/>\n",
       "<text text-anchor=\"start\" x=\"210.25\" y=\"-544.7\" font-family=\"Helvetica,sans-Serif\" font-size=\"14.00\">petal width (cm) ≤ 1.6</text>\n",
       "<text text-anchor=\"start\" x=\"247.38\" y=\"-528.95\" font-family=\"Helvetica,sans-Serif\" font-size=\"14.00\">gini = 0.5</text>\n",
       "<text text-anchor=\"start\" x=\"234.62\" y=\"-513.2\" font-family=\"Helvetica,sans-Serif\" font-size=\"14.00\">samples = 78</text>\n",
       "<text text-anchor=\"start\" x=\"221.12\" y=\"-497.45\" font-family=\"Helvetica,sans-Serif\" font-size=\"14.00\">value = [0, 39, 39]</text>\n",
       "<text text-anchor=\"start\" x=\"223\" y=\"-481.7\" font-family=\"Helvetica,sans-Serif\" font-size=\"14.00\">class = versicolor</text>\n",
       "</g>\n",
       "<!-- 0&#45;&gt;2 -->\n",
       "<g id=\"edge2\" class=\"edge\">\n",
       "<title>0&#45;&gt;2</title>\n",
       "<path fill=\"none\" stroke=\"black\" d=\"M226.57,-597.8C231.78,-589.42 237.3,-580.53 242.68,-571.86\"/>\n",
       "<polygon fill=\"black\" stroke=\"black\" points=\"245.57,-573.85 247.87,-563.51 239.62,-570.15 245.57,-573.85\"/>\n",
       "<text text-anchor=\"middle\" x=\"254.36\" y=\"-581.14\" font-family=\"Helvetica,sans-Serif\" font-size=\"14.00\">False</text>\n",
       "</g>\n",
       "<!-- 3 -->\n",
       "<g id=\"node4\" class=\"node\">\n",
       "<title>3</title>\n",
       "<path fill=\"#3ee684\" stroke=\"black\" d=\"M255.38,-439.25C255.38,-439.25 120.88,-439.25 120.88,-439.25 114.88,-439.25 108.88,-433.25 108.88,-427.25 108.88,-427.25 108.88,-364.5 108.88,-364.5 108.88,-358.5 114.88,-352.5 120.88,-352.5 120.88,-352.5 255.38,-352.5 255.38,-352.5 261.38,-352.5 267.38,-358.5 267.38,-364.5 267.38,-364.5 267.38,-427.25 267.38,-427.25 267.38,-433.25 261.38,-439.25 255.38,-439.25\"/>\n",
       "<text text-anchor=\"start\" x=\"116.88\" y=\"-421.95\" font-family=\"Helvetica,sans-Serif\" font-size=\"14.00\">petal length (cm) ≤ 5.25</text>\n",
       "<text text-anchor=\"start\" x=\"152.88\" y=\"-406.2\" font-family=\"Helvetica,sans-Serif\" font-size=\"14.00\">gini = 0.051</text>\n",
       "<text text-anchor=\"start\" x=\"147.62\" y=\"-390.45\" font-family=\"Helvetica,sans-Serif\" font-size=\"14.00\">samples = 38</text>\n",
       "<text text-anchor=\"start\" x=\"137.88\" y=\"-374.7\" font-family=\"Helvetica,sans-Serif\" font-size=\"14.00\">value = [0, 37, 1]</text>\n",
       "<text text-anchor=\"start\" x=\"136\" y=\"-358.95\" font-family=\"Helvetica,sans-Serif\" font-size=\"14.00\">class = versicolor</text>\n",
       "</g>\n",
       "<!-- 2&#45;&gt;3 -->\n",
       "<g id=\"edge3\" class=\"edge\">\n",
       "<title>2&#45;&gt;3</title>\n",
       "<path fill=\"none\" stroke=\"black\" d=\"M244.45,-475.05C238.28,-466.49 231.73,-457.39 225.36,-448.56\"/>\n",
       "<polygon fill=\"black\" stroke=\"black\" points=\"228.38,-446.76 219.7,-440.7 222.71,-450.86 228.38,-446.76\"/>\n",
       "</g>\n",
       "<!-- 6 -->\n",
       "<g id=\"node7\" class=\"node\">\n",
       "<title>6</title>\n",
       "<path fill=\"#8843e6\" stroke=\"black\" d=\"M426.75,-439.25C426.75,-439.25 297.5,-439.25 297.5,-439.25 291.5,-439.25 285.5,-433.25 285.5,-427.25 285.5,-427.25 285.5,-364.5 285.5,-364.5 285.5,-358.5 291.5,-352.5 297.5,-352.5 297.5,-352.5 426.75,-352.5 426.75,-352.5 432.75,-352.5 438.75,-358.5 438.75,-364.5 438.75,-364.5 438.75,-427.25 438.75,-427.25 438.75,-433.25 432.75,-439.25 426.75,-439.25\"/>\n",
       "<text text-anchor=\"start\" x=\"293.5\" y=\"-421.95\" font-family=\"Helvetica,sans-Serif\" font-size=\"14.00\">petal width (cm) ≤ 1.75</text>\n",
       "<text text-anchor=\"start\" x=\"326.88\" y=\"-406.2\" font-family=\"Helvetica,sans-Serif\" font-size=\"14.00\">gini = 0.095</text>\n",
       "<text text-anchor=\"start\" x=\"321.62\" y=\"-390.45\" font-family=\"Helvetica,sans-Serif\" font-size=\"14.00\">samples = 40</text>\n",
       "<text text-anchor=\"start\" x=\"311.88\" y=\"-374.7\" font-family=\"Helvetica,sans-Serif\" font-size=\"14.00\">value = [0, 2, 38]</text>\n",
       "<text text-anchor=\"start\" x=\"314.12\" y=\"-358.95\" font-family=\"Helvetica,sans-Serif\" font-size=\"14.00\">class = virginica</text>\n",
       "</g>\n",
       "<!-- 2&#45;&gt;6 -->\n",
       "<g id=\"edge6\" class=\"edge\">\n",
       "<title>2&#45;&gt;6</title>\n",
       "<path fill=\"none\" stroke=\"black\" d=\"M305.8,-475.05C311.97,-466.49 318.52,-457.39 324.89,-448.56\"/>\n",
       "<polygon fill=\"black\" stroke=\"black\" points=\"327.54,-450.86 330.55,-440.7 321.87,-446.76 327.54,-450.86\"/>\n",
       "</g>\n",
       "<!-- 4 -->\n",
       "<g id=\"node5\" class=\"node\">\n",
       "<title>4</title>\n",
       "<path fill=\"#39e581\" stroke=\"black\" d=\"M108.25,-308.62C108.25,-308.62 12,-308.62 12,-308.62 6,-308.62 0,-302.62 0,-296.62 0,-296.62 0,-249.62 0,-249.62 0,-243.62 6,-237.62 12,-237.62 12,-237.62 108.25,-237.62 108.25,-237.62 114.25,-237.62 120.25,-243.62 120.25,-249.62 120.25,-249.62 120.25,-296.62 120.25,-296.62 120.25,-302.62 114.25,-308.62 108.25,-308.62\"/>\n",
       "<text text-anchor=\"start\" x=\"32.38\" y=\"-291.32\" font-family=\"Helvetica,sans-Serif\" font-size=\"14.00\">gini = 0.0</text>\n",
       "<text text-anchor=\"start\" x=\"19.62\" y=\"-275.57\" font-family=\"Helvetica,sans-Serif\" font-size=\"14.00\">samples = 37</text>\n",
       "<text text-anchor=\"start\" x=\"9.88\" y=\"-259.82\" font-family=\"Helvetica,sans-Serif\" font-size=\"14.00\">value = [0, 37, 0]</text>\n",
       "<text text-anchor=\"start\" x=\"8\" y=\"-244.07\" font-family=\"Helvetica,sans-Serif\" font-size=\"14.00\">class = versicolor</text>\n",
       "</g>\n",
       "<!-- 3&#45;&gt;4 -->\n",
       "<g id=\"edge4\" class=\"edge\">\n",
       "<title>3&#45;&gt;4</title>\n",
       "<path fill=\"none\" stroke=\"black\" d=\"M143,-352.3C130.72,-340.72 117.42,-328.17 105.14,-316.59\"/>\n",
       "<polygon fill=\"black\" stroke=\"black\" points=\"107.61,-314.11 97.93,-309.79 102.81,-319.2 107.61,-314.11\"/>\n",
       "</g>\n",
       "<!-- 5 -->\n",
       "<g id=\"node6\" class=\"node\">\n",
       "<title>5</title>\n",
       "<path fill=\"#8139e5\" stroke=\"black\" d=\"M238.12,-308.62C238.12,-308.62 150.12,-308.62 150.12,-308.62 144.12,-308.62 138.12,-302.62 138.12,-296.62 138.12,-296.62 138.12,-249.62 138.12,-249.62 138.12,-243.62 144.12,-237.62 150.12,-237.62 150.12,-237.62 238.12,-237.62 238.12,-237.62 244.12,-237.62 250.12,-243.62 250.12,-249.62 250.12,-249.62 250.12,-296.62 250.12,-296.62 250.12,-302.62 244.12,-308.62 238.12,-308.62\"/>\n",
       "<text text-anchor=\"start\" x=\"166.38\" y=\"-291.32\" font-family=\"Helvetica,sans-Serif\" font-size=\"14.00\">gini = 0.0</text>\n",
       "<text text-anchor=\"start\" x=\"157.38\" y=\"-275.57\" font-family=\"Helvetica,sans-Serif\" font-size=\"14.00\">samples = 1</text>\n",
       "<text text-anchor=\"start\" x=\"147.62\" y=\"-259.82\" font-family=\"Helvetica,sans-Serif\" font-size=\"14.00\">value = [0, 0, 1]</text>\n",
       "<text text-anchor=\"start\" x=\"146.12\" y=\"-244.07\" font-family=\"Helvetica,sans-Serif\" font-size=\"14.00\">class = virginica</text>\n",
       "</g>\n",
       "<!-- 3&#45;&gt;5 -->\n",
       "<g id=\"edge5\" class=\"edge\">\n",
       "<title>3&#45;&gt;5</title>\n",
       "<path fill=\"none\" stroke=\"black\" d=\"M190.24,-352.3C190.76,-341.83 191.32,-330.58 191.85,-319.96\"/>\n",
       "<polygon fill=\"black\" stroke=\"black\" points=\"195.33,-320.43 192.33,-310.27 188.34,-320.08 195.33,-320.43\"/>\n",
       "</g>\n",
       "<!-- 7 -->\n",
       "<g id=\"node8\" class=\"node\">\n",
       "<title>7</title>\n",
       "<path fill=\"#ffffff\" stroke=\"black\" d=\"M423.25,-316.5C423.25,-316.5 291,-316.5 291,-316.5 285,-316.5 279,-310.5 279,-304.5 279,-304.5 279,-241.75 279,-241.75 279,-235.75 285,-229.75 291,-229.75 291,-229.75 423.25,-229.75 423.25,-229.75 429.25,-229.75 435.25,-235.75 435.25,-241.75 435.25,-241.75 435.25,-304.5 435.25,-304.5 435.25,-310.5 429.25,-316.5 423.25,-316.5\"/>\n",
       "<text text-anchor=\"start\" x=\"287\" y=\"-299.2\" font-family=\"Helvetica,sans-Serif\" font-size=\"14.00\">sepal width (cm) ≤ 2.75</text>\n",
       "<text text-anchor=\"start\" x=\"329.38\" y=\"-283.45\" font-family=\"Helvetica,sans-Serif\" font-size=\"14.00\">gini = 0.5</text>\n",
       "<text text-anchor=\"start\" x=\"320.38\" y=\"-267.7\" font-family=\"Helvetica,sans-Serif\" font-size=\"14.00\">samples = 2</text>\n",
       "<text text-anchor=\"start\" x=\"310.62\" y=\"-251.95\" font-family=\"Helvetica,sans-Serif\" font-size=\"14.00\">value = [0, 1, 1]</text>\n",
       "<text text-anchor=\"start\" x=\"305\" y=\"-236.2\" font-family=\"Helvetica,sans-Serif\" font-size=\"14.00\">class = versicolor</text>\n",
       "</g>\n",
       "<!-- 6&#45;&gt;7 -->\n",
       "<g id=\"edge7\" class=\"edge\">\n",
       "<title>6&#45;&gt;7</title>\n",
       "<path fill=\"none\" stroke=\"black\" d=\"M360.36,-352.3C360.04,-344.46 359.69,-336.17 359.36,-328.04\"/>\n",
       "<polygon fill=\"black\" stroke=\"black\" points=\"362.86,-328.08 358.95,-318.23 355.87,-328.37 362.86,-328.08\"/>\n",
       "</g>\n",
       "<!-- 10 -->\n",
       "<g id=\"node11\" class=\"node\">\n",
       "<title>10</title>\n",
       "<path fill=\"#843ee6\" stroke=\"black\" d=\"M599.38,-316.5C599.38,-316.5 464.88,-316.5 464.88,-316.5 458.88,-316.5 452.88,-310.5 452.88,-304.5 452.88,-304.5 452.88,-241.75 452.88,-241.75 452.88,-235.75 458.88,-229.75 464.88,-229.75 464.88,-229.75 599.38,-229.75 599.38,-229.75 605.38,-229.75 611.38,-235.75 611.38,-241.75 611.38,-241.75 611.38,-304.5 611.38,-304.5 611.38,-310.5 605.38,-316.5 599.38,-316.5\"/>\n",
       "<text text-anchor=\"start\" x=\"460.88\" y=\"-299.2\" font-family=\"Helvetica,sans-Serif\" font-size=\"14.00\">petal length (cm) ≤ 4.85</text>\n",
       "<text text-anchor=\"start\" x=\"496.88\" y=\"-283.45\" font-family=\"Helvetica,sans-Serif\" font-size=\"14.00\">gini = 0.051</text>\n",
       "<text text-anchor=\"start\" x=\"491.62\" y=\"-267.7\" font-family=\"Helvetica,sans-Serif\" font-size=\"14.00\">samples = 38</text>\n",
       "<text text-anchor=\"start\" x=\"481.88\" y=\"-251.95\" font-family=\"Helvetica,sans-Serif\" font-size=\"14.00\">value = [0, 1, 37]</text>\n",
       "<text text-anchor=\"start\" x=\"484.12\" y=\"-236.2\" font-family=\"Helvetica,sans-Serif\" font-size=\"14.00\">class = virginica</text>\n",
       "</g>\n",
       "<!-- 6&#45;&gt;10 -->\n",
       "<g id=\"edge10\" class=\"edge\">\n",
       "<title>6&#45;&gt;10</title>\n",
       "<path fill=\"none\" stroke=\"black\" d=\"M422.06,-352.3C435.19,-342.98 449.19,-333.03 462.65,-323.47\"/>\n",
       "<polygon fill=\"black\" stroke=\"black\" points=\"464.51,-326.44 470.64,-317.8 460.46,-320.74 464.51,-326.44\"/>\n",
       "</g>\n",
       "<!-- 8 -->\n",
       "<g id=\"node9\" class=\"node\">\n",
       "<title>8</title>\n",
       "<path fill=\"#8139e5\" stroke=\"black\" d=\"M271.12,-185.88C271.12,-185.88 183.12,-185.88 183.12,-185.88 177.12,-185.88 171.12,-179.88 171.12,-173.88 171.12,-173.88 171.12,-126.88 171.12,-126.88 171.12,-120.88 177.12,-114.88 183.12,-114.88 183.12,-114.88 271.12,-114.88 271.12,-114.88 277.12,-114.88 283.12,-120.88 283.12,-126.88 283.12,-126.88 283.12,-173.88 283.12,-173.88 283.12,-179.88 277.12,-185.88 271.12,-185.88\"/>\n",
       "<text text-anchor=\"start\" x=\"199.38\" y=\"-168.57\" font-family=\"Helvetica,sans-Serif\" font-size=\"14.00\">gini = 0.0</text>\n",
       "<text text-anchor=\"start\" x=\"190.38\" y=\"-152.82\" font-family=\"Helvetica,sans-Serif\" font-size=\"14.00\">samples = 1</text>\n",
       "<text text-anchor=\"start\" x=\"180.62\" y=\"-137.07\" font-family=\"Helvetica,sans-Serif\" font-size=\"14.00\">value = [0, 0, 1]</text>\n",
       "<text text-anchor=\"start\" x=\"179.12\" y=\"-121.33\" font-family=\"Helvetica,sans-Serif\" font-size=\"14.00\">class = virginica</text>\n",
       "</g>\n",
       "<!-- 7&#45;&gt;8 -->\n",
       "<g id=\"edge8\" class=\"edge\">\n",
       "<title>7&#45;&gt;8</title>\n",
       "<path fill=\"none\" stroke=\"black\" d=\"M311.29,-229.55C298.7,-217.86 285.05,-205.18 272.49,-193.51\"/>\n",
       "<polygon fill=\"black\" stroke=\"black\" points=\"275.22,-191.27 265.52,-187.03 270.46,-196.4 275.22,-191.27\"/>\n",
       "</g>\n",
       "<!-- 9 -->\n",
       "<g id=\"node10\" class=\"node\">\n",
       "<title>9</title>\n",
       "<path fill=\"#39e581\" stroke=\"black\" d=\"M409.25,-185.88C409.25,-185.88 313,-185.88 313,-185.88 307,-185.88 301,-179.88 301,-173.88 301,-173.88 301,-126.88 301,-126.88 301,-120.88 307,-114.88 313,-114.88 313,-114.88 409.25,-114.88 409.25,-114.88 415.25,-114.88 421.25,-120.88 421.25,-126.88 421.25,-126.88 421.25,-173.88 421.25,-173.88 421.25,-179.88 415.25,-185.88 409.25,-185.88\"/>\n",
       "<text text-anchor=\"start\" x=\"333.38\" y=\"-168.57\" font-family=\"Helvetica,sans-Serif\" font-size=\"14.00\">gini = 0.0</text>\n",
       "<text text-anchor=\"start\" x=\"324.38\" y=\"-152.82\" font-family=\"Helvetica,sans-Serif\" font-size=\"14.00\">samples = 1</text>\n",
       "<text text-anchor=\"start\" x=\"314.62\" y=\"-137.07\" font-family=\"Helvetica,sans-Serif\" font-size=\"14.00\">value = [0, 1, 0]</text>\n",
       "<text text-anchor=\"start\" x=\"309\" y=\"-121.33\" font-family=\"Helvetica,sans-Serif\" font-size=\"14.00\">class = versicolor</text>\n",
       "</g>\n",
       "<!-- 7&#45;&gt;9 -->\n",
       "<g id=\"edge9\" class=\"edge\">\n",
       "<title>7&#45;&gt;9</title>\n",
       "<path fill=\"none\" stroke=\"black\" d=\"M358.54,-229.55C358.88,-219.08 359.26,-207.83 359.61,-197.21\"/>\n",
       "<polygon fill=\"black\" stroke=\"black\" points=\"363.09,-197.63 359.93,-187.52 356.1,-197.39 363.09,-197.63\"/>\n",
       "</g>\n",
       "<!-- 11 -->\n",
       "<g id=\"node12\" class=\"node\">\n",
       "<title>11</title>\n",
       "<path fill=\"#ffffff\" stroke=\"black\" d=\"M596.88,-193.75C596.88,-193.75 459.38,-193.75 459.38,-193.75 453.38,-193.75 447.38,-187.75 447.38,-181.75 447.38,-181.75 447.38,-119 447.38,-119 447.38,-113 453.38,-107 459.38,-107 459.38,-107 596.88,-107 596.88,-107 602.88,-107 608.88,-113 608.88,-119 608.88,-119 608.88,-181.75 608.88,-181.75 608.88,-187.75 602.88,-193.75 596.88,-193.75\"/>\n",
       "<text text-anchor=\"start\" x=\"455.38\" y=\"-176.45\" font-family=\"Helvetica,sans-Serif\" font-size=\"14.00\">sepal length (cm) ≤ 5.95</text>\n",
       "<text text-anchor=\"start\" x=\"500.38\" y=\"-160.7\" font-family=\"Helvetica,sans-Serif\" font-size=\"14.00\">gini = 0.5</text>\n",
       "<text text-anchor=\"start\" x=\"491.38\" y=\"-144.95\" font-family=\"Helvetica,sans-Serif\" font-size=\"14.00\">samples = 2</text>\n",
       "<text text-anchor=\"start\" x=\"481.62\" y=\"-129.2\" font-family=\"Helvetica,sans-Serif\" font-size=\"14.00\">value = [0, 1, 1]</text>\n",
       "<text text-anchor=\"start\" x=\"476\" y=\"-113.45\" font-family=\"Helvetica,sans-Serif\" font-size=\"14.00\">class = versicolor</text>\n",
       "</g>\n",
       "<!-- 10&#45;&gt;11 -->\n",
       "<g id=\"edge11\" class=\"edge\">\n",
       "<title>10&#45;&gt;11</title>\n",
       "<path fill=\"none\" stroke=\"black\" d=\"M530.71,-229.55C530.45,-221.71 530.18,-213.42 529.91,-205.29\"/>\n",
       "<polygon fill=\"black\" stroke=\"black\" points=\"533.42,-205.36 529.59,-195.48 526.42,-205.59 533.42,-205.36\"/>\n",
       "</g>\n",
       "<!-- 14 -->\n",
       "<g id=\"node15\" class=\"node\">\n",
       "<title>14</title>\n",
       "<path fill=\"#8139e5\" stroke=\"black\" d=\"M731.38,-185.88C731.38,-185.88 638.88,-185.88 638.88,-185.88 632.88,-185.88 626.88,-179.88 626.88,-173.88 626.88,-173.88 626.88,-126.88 626.88,-126.88 626.88,-120.88 632.88,-114.88 638.88,-114.88 638.88,-114.88 731.38,-114.88 731.38,-114.88 737.38,-114.88 743.38,-120.88 743.38,-126.88 743.38,-126.88 743.38,-173.88 743.38,-173.88 743.38,-179.88 737.38,-185.88 731.38,-185.88\"/>\n",
       "<text text-anchor=\"start\" x=\"657.38\" y=\"-168.57\" font-family=\"Helvetica,sans-Serif\" font-size=\"14.00\">gini = 0.0</text>\n",
       "<text text-anchor=\"start\" x=\"644.62\" y=\"-152.82\" font-family=\"Helvetica,sans-Serif\" font-size=\"14.00\">samples = 36</text>\n",
       "<text text-anchor=\"start\" x=\"634.88\" y=\"-137.07\" font-family=\"Helvetica,sans-Serif\" font-size=\"14.00\">value = [0, 0, 36]</text>\n",
       "<text text-anchor=\"start\" x=\"637.12\" y=\"-121.33\" font-family=\"Helvetica,sans-Serif\" font-size=\"14.00\">class = virginica</text>\n",
       "</g>\n",
       "<!-- 10&#45;&gt;14 -->\n",
       "<g id=\"edge14\" class=\"edge\">\n",
       "<title>10&#45;&gt;14</title>\n",
       "<path fill=\"none\" stroke=\"black\" d=\"M586.07,-229.55C601.17,-217.63 617.56,-204.7 632.58,-192.84\"/>\n",
       "<polygon fill=\"black\" stroke=\"black\" points=\"634.38,-195.88 640.06,-186.94 630.04,-190.39 634.38,-195.88\"/>\n",
       "</g>\n",
       "<!-- 12 -->\n",
       "<g id=\"node13\" class=\"node\">\n",
       "<title>12</title>\n",
       "<path fill=\"#39e581\" stroke=\"black\" d=\"M509.25,-71C509.25,-71 413,-71 413,-71 407,-71 401,-65 401,-59 401,-59 401,-12 401,-12 401,-6 407,0 413,0 413,0 509.25,0 509.25,0 515.25,0 521.25,-6 521.25,-12 521.25,-12 521.25,-59 521.25,-59 521.25,-65 515.25,-71 509.25,-71\"/>\n",
       "<text text-anchor=\"start\" x=\"433.38\" y=\"-53.7\" font-family=\"Helvetica,sans-Serif\" font-size=\"14.00\">gini = 0.0</text>\n",
       "<text text-anchor=\"start\" x=\"424.38\" y=\"-37.95\" font-family=\"Helvetica,sans-Serif\" font-size=\"14.00\">samples = 1</text>\n",
       "<text text-anchor=\"start\" x=\"414.62\" y=\"-22.2\" font-family=\"Helvetica,sans-Serif\" font-size=\"14.00\">value = [0, 1, 0]</text>\n",
       "<text text-anchor=\"start\" x=\"409\" y=\"-6.45\" font-family=\"Helvetica,sans-Serif\" font-size=\"14.00\">class = versicolor</text>\n",
       "</g>\n",
       "<!-- 11&#45;&gt;12 -->\n",
       "<g id=\"edge12\" class=\"edge\">\n",
       "<title>11&#45;&gt;12</title>\n",
       "<path fill=\"none\" stroke=\"black\" d=\"M502.8,-106.7C497.79,-98.27 492.52,-89.39 487.48,-80.9\"/>\n",
       "<polygon fill=\"black\" stroke=\"black\" points=\"490.58,-79.27 482.47,-72.46 484.56,-82.84 490.58,-79.27\"/>\n",
       "</g>\n",
       "<!-- 13 -->\n",
       "<g id=\"node14\" class=\"node\">\n",
       "<title>13</title>\n",
       "<path fill=\"#8139e5\" stroke=\"black\" d=\"M639.12,-71C639.12,-71 551.12,-71 551.12,-71 545.12,-71 539.12,-65 539.12,-59 539.12,-59 539.12,-12 539.12,-12 539.12,-6 545.12,0 551.12,0 551.12,0 639.12,0 639.12,0 645.12,0 651.12,-6 651.12,-12 651.12,-12 651.12,-59 651.12,-59 651.12,-65 645.12,-71 639.12,-71\"/>\n",
       "<text text-anchor=\"start\" x=\"567.38\" y=\"-53.7\" font-family=\"Helvetica,sans-Serif\" font-size=\"14.00\">gini = 0.0</text>\n",
       "<text text-anchor=\"start\" x=\"558.38\" y=\"-37.95\" font-family=\"Helvetica,sans-Serif\" font-size=\"14.00\">samples = 1</text>\n",
       "<text text-anchor=\"start\" x=\"548.62\" y=\"-22.2\" font-family=\"Helvetica,sans-Serif\" font-size=\"14.00\">value = [0, 0, 1]</text>\n",
       "<text text-anchor=\"start\" x=\"547.12\" y=\"-6.45\" font-family=\"Helvetica,sans-Serif\" font-size=\"14.00\">class = virginica</text>\n",
       "</g>\n",
       "<!-- 11&#45;&gt;13 -->\n",
       "<g id=\"edge13\" class=\"edge\">\n",
       "<title>11&#45;&gt;13</title>\n",
       "<path fill=\"none\" stroke=\"black\" d=\"M553.45,-106.7C558.46,-98.27 563.73,-89.39 568.77,-80.9\"/>\n",
       "<polygon fill=\"black\" stroke=\"black\" points=\"571.69,-82.84 573.78,-72.46 565.67,-79.27 571.69,-82.84\"/>\n",
       "</g>\n",
       "</g>\n",
       "</svg>\n"
      ],
      "text/plain": [
       "<graphviz.sources.Source at 0x774d33109090>"
      ]
     },
     "execution_count": 18,
     "metadata": {},
     "output_type": "execute_result"
    }
   ],
   "source": [
    "dot_data = tree.export_graphviz(clf, out_file=None,\n",
    "                     feature_names=iris.feature_names,\n",
    "                     class_names=iris.target_names,\n",
    "                     filled=True, rounded=True,\n",
    "                     special_characters=True)\n",
    "graph = graphviz.Source(dot_data)\n",
    "graph"
   ]
  },
  {
   "cell_type": "markdown",
   "metadata": {},
   "source": []
  },
  {
   "cell_type": "markdown",
   "metadata": {},
   "source": [
    "### Prediction step\n",
    "\n",
    "Now we can use our model to predict which type has a flower, basing on its parameters.\n",
    "\n",
    "This is conducted basically via traversing the tree that you can see above."
   ]
  },
  {
   "cell_type": "code",
   "execution_count": 46,
   "metadata": {},
   "outputs": [],
   "source": [
    "predictions = clf.predict(X_test)"
   ]
  },
  {
   "cell_type": "markdown",
   "metadata": {},
   "source": [
    "### We can also measure the accuracy of our model"
   ]
  },
  {
   "cell_type": "code",
   "execution_count": 47,
   "metadata": {},
   "outputs": [
    {
     "data": {
      "text/plain": [
       "np.float64(0.9333333333333333)"
      ]
     },
     "execution_count": 47,
     "metadata": {},
     "output_type": "execute_result"
    }
   ],
   "source": [
    "sum(predictions == y_test) / len(y_test)"
   ]
  },
  {
   "cell_type": "markdown",
   "metadata": {},
   "source": [
    "To get clearer intuition about predicion, let's look at those X, that should be labeled to some flower"
   ]
  },
  {
   "cell_type": "code",
   "execution_count": null,
   "metadata": {},
   "outputs": [],
   "source": [
    "y_test"
   ]
  },
  {
   "cell_type": "markdown",
   "metadata": {},
   "source": [
    "\n",
    "Here you can traverse the tree above by yourself and make sure that prediction works"
   ]
  },
  {
   "cell_type": "code",
   "execution_count": null,
   "metadata": {},
   "outputs": [],
   "source": [
    "X_test[1]"
   ]
  },
  {
   "cell_type": "code",
   "execution_count": null,
   "metadata": {},
   "outputs": [],
   "source": [
    "clf.predict([X_test[1]])"
   ]
  },
  {
   "cell_type": "markdown",
   "metadata": {},
   "source": [
    "![purple-divider](https://user-images.githubusercontent.com/7065401/52071927-c1cd7100-2562-11e9-908a-dde91ba14e59.png)"
   ]
  },
  {
   "cell_type": "markdown",
   "metadata": {},
   "source": [
    "### Finally, it is your turn to write such classifier by yourself!\n",
    "\n",
    "####  Gini impurity\n",
    "\n",
    "Decision trees use the concept of Gini impurity to describe how “pure” a node is. A node is pure (G = 0) if all its samples belong to the same class, while a node with many samples from many different classes will have a Gini closer to 1.\n",
    "\n",
    "$G = 1 - \\sum_{k=1}^{n}p_{k}^2$\n",
    "\n",
    "For example, if a node contains five samples, with two belonging to the first class (first flower), two of class 2, one of class 3 and none of class 4, then\n",
    "\n",
    "$G = 1 - (\\frac{2}{5})^2 - (\\frac{2}{5})^2 - (\\frac{1}{5})^2 = 0.64$\n",
    "\n",
    "#### Remarks \n",
    "- We recommend using additional functions in `DecisionTreeClassifier` class, to make the implementation process easier.\n",
    "- [use this hint](https://arc.net/l/quote/pqvyjqei)"
   ]
  },
  {
   "cell_type": "code",
   "execution_count": 14,
   "metadata": {},
   "outputs": [],
   "source": [
    "\n",
    "class Node:\n",
    "    def __init__(self, X: npt.NDArray, y: npt.NDArray):\n",
    "        \"\"\"\n",
    "        :param X: numpy array of form [[feature1,feature2, ... featureN], ...] (i.e. [[1.5, 5.4, 3.2, 9.8] , ...] for case with iris d.s.)\n",
    "        :param y: numpy array of from [class1, class2, ...] (i.e. [0,1,1,2,1,0,...] for case with iris d.s.)\n",
    "        \"\"\"\n",
    "\n",
    "        self.X = X\n",
    "        self.y = y\n",
    "        self.feature_index = 0\n",
    "        self.threshold = 0\n",
    "        self.left = None\n",
    "        self.right = None\n",
    "        self.gini = self.calculate_gini(y)\n",
    "\n",
    "    @staticmethod\n",
    "    def calculate_gini(y: npt.NDArray) -> float:\n",
    "        _, counts = np.unique_counts(y)\n",
    "        total = np.sum(counts)\n",
    "        return 1 - np.sum((counts/total)**2)"
   ]
  },
  {
   "cell_type": "code",
   "execution_count": 40,
   "metadata": {},
   "outputs": [],
   "source": [
    "class MyDecisionTreeClassifier:\n",
    "    def __init__(self, max_depth: int) -> None:\n",
    "        self.max_depth = max_depth\n",
    "        self.tree = None\n",
    "        self.number_of_classes = None\n",
    "\n",
    "\n",
    "    def fit(self, X: npt.NDArray, y: npt.NDArray) -> None:\n",
    "        \"\"\"\n",
    "        Basically, function that performs all the training (building of a tree)\n",
    "        We recommend to use it as a wrapper of recursive building function\n",
    "        \"\"\"\n",
    "        self.number_of_classes = np.unique(y).size\n",
    "        self.tree = Node(X, y)\n",
    "\n",
    "        features_count = X.shape[1]\n",
    "        uniques = [np.unique(X[:, f_i]) for f_i in range(features_count)]\n",
    "\n",
    "\n",
    "        def inner(root: Node, depth: int):\n",
    "            if depth >= self.max_depth:\n",
    "                return\n",
    "\n",
    "            max_info_gain = 0\n",
    "            for feature_index in range(features_count):\n",
    "                for threshold in uniques[feature_index]:\n",
    "                    left_data, right_data = self.split_data(root.X, root.y, feature_index, threshold)\n",
    "                    if left_data[0].size == 0 or right_data[0].size == 0:\n",
    "                        continue\n",
    "\n",
    "                    left = Node(left_data[0], left_data[1])\n",
    "                    right = Node(right_data[0], right_data[1])\n",
    "\n",
    "                    #maximize information gain\n",
    "                    left_info = left.gini * left.y.size / root.y.size\n",
    "                    right_info = right.gini * right.y.size / root.y.size\n",
    "                    cur_info_gain = root.gini - left_info - right_info\n",
    "                    if cur_info_gain > max_info_gain:\n",
    "                        max_info_gain = cur_info_gain\n",
    "                        root.feature_index = feature_index\n",
    "                        root.threshold = threshold\n",
    "                        root.left = left\n",
    "                        root.right = right\n",
    "\n",
    "            if root.left is None:\n",
    "                return\n",
    "            if root.left.gini != 0:\n",
    "                inner(root.left, depth+1)\n",
    "            if root.right.gini != 0:\n",
    "                inner(root.right, depth+1)\n",
    "\n",
    "        inner(self.tree, 0)\n",
    "\n",
    "\n",
    "    @staticmethod\n",
    "    def split_data(X: npt.NDArray, y: npt.NDArray, feature_index: int, threshold) \\\n",
    "        -> tuple[tuple[npt.NDArray, npt.NDArray], tuple[npt.NDArray, npt.NDArray]]:\n",
    "        left, right = ([], []), ([], [])\n",
    "        for i in range(X.shape[0]):\n",
    "            if X[i, feature_index] <= threshold:\n",
    "                left[0].append(X[i])\n",
    "                left[1].append(y[i])\n",
    "            else:\n",
    "                right[0].append(X[i])\n",
    "                right[1].append(y[i])\n",
    "        return (np.array(left[0]), np.array(left[1])), (np.array(right[0]), np.array(right[1]))\n",
    "\n",
    "    def predict(self, X_test: npt.NDArray) -> list:\n",
    "        \"\"\"\n",
    "        Traverse the tree while there is a child\n",
    "        and return the predicted class for it\n",
    "        \"\"\"\n",
    "\n",
    "        def classify(node: Node, X: npt.ArrayLike) -> int:\n",
    "            if node.left is None:\n",
    "                ch, w = np.unique_counts(node.y)\n",
    "                return random.choices(ch, weights=w)[0]\n",
    "\n",
    "            if X[node.feature_index] <= node.threshold:\n",
    "                return classify(node.left, X)\n",
    "            return classify(node.right, X)\n",
    "\n",
    "        predictions = []\n",
    "        for X in X_test:\n",
    "            predictions.append(classify(self.tree, X))\n",
    "\n",
    "        return predictions\n",
    "\n",
    "my_clf = MyDecisionTreeClassifier(5)\n",
    "my_clf.fit(X, y)"
   ]
  },
  {
   "cell_type": "code",
   "execution_count": 45,
   "metadata": {},
   "outputs": [
    {
     "data": {
      "text/plain": [
       "np.float64(0.9666666666666667)"
      ]
     },
     "execution_count": 45,
     "metadata": {},
     "output_type": "execute_result"
    }
   ],
   "source": [
    "my_predictions = list(my_clf.predict(X_test))\n",
    "sum(my_predictions == y_test) / len(y_test)"
   ]
  },
  {
   "cell_type": "code",
   "execution_count": 33,
   "metadata": {},
   "outputs": [
    {
     "data": {
      "text/plain": [
       "[np.int64(2)]"
      ]
     },
     "execution_count": 33,
     "metadata": {},
     "output_type": "execute_result"
    }
   ],
   "source": [
    "ch, w = np.unique_counts(my_clf.tree.y)\n",
    "random.choices(ch, weights=w)"
   ]
  },
  {
   "cell_type": "code",
   "execution_count": 16,
   "metadata": {},
   "outputs": [],
   "source": [
    "\n",
    "def evaluate(X_test: list[list], y_test: list) -> float:\n",
    "    \"\"\"\n",
    "    Returns accuracy of the model (ratio of right guesses to the number of samples)\n",
    "    \"\"\"\n",
    "    pass"
   ]
  },
  {
   "cell_type": "markdown",
   "metadata": {},
   "source": [
    "***put your code below, with usage and evaluation of Decision classifier tree*** (delete this)"
   ]
  },
  {
   "cell_type": "markdown",
   "metadata": {},
   "source": []
  },
  {
   "cell_type": "markdown",
   "metadata": {},
   "source": []
  }
 ],
 "metadata": {
  "kernelspec": {
   "display_name": "venv",
   "language": "python",
   "name": "python3"
  },
  "language_info": {
   "codemirror_mode": {
    "name": "ipython",
    "version": 3
   },
   "file_extension": ".py",
   "mimetype": "text/x-python",
   "name": "python",
   "nbconvert_exporter": "python",
   "pygments_lexer": "ipython3",
   "version": "3.13.1"
  }
 },
 "nbformat": 4,
 "nbformat_minor": 2
}
